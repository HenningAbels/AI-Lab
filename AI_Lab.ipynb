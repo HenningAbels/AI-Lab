{
  "cells": [
    {
      "cell_type": "markdown",
      "metadata": {
        "id": "eBYtN9YKnXrK"
      },
      "source": [
        "**Topics to Hashtags**\n",
        "\n",
        "**Write down what you have done**\n",
        "\n",
        "**Try different approach for word2word **\n",
        "\n"
      ]
    },
    {
      "cell_type": "code",
      "execution_count": null,
      "metadata": {
        "colab": {
          "base_uri": "https://localhost:8080/"
        },
        "id": "6rMLKVR1g0V_",
        "outputId": "bb1e93c1-afe9-4782-8e3b-762469f8051e"
      },
      "outputs": [
        {
          "output_type": "stream",
          "name": "stderr",
          "text": [
            "[nltk_data] Downloading package wordnet to /root/nltk_data...\n",
            "[nltk_data]   Package wordnet is already up-to-date!\n",
            "[nltk_data] Downloading package stopwords to /root/nltk_data...\n",
            "[nltk_data]   Package stopwords is already up-to-date!\n"
          ]
        },
        {
          "output_type": "stream",
          "name": "stdout",
          "text": [
            "Drive already mounted at /content/drive; to attempt to forcibly remount, call drive.mount(\"/content/drive\", force_remount=True).\n"
          ]
        },
        {
          "output_type": "stream",
          "name": "stderr",
          "text": [
            "/usr/local/lib/python3.7/dist-packages/ipykernel_launcher.py:24: FutureWarning: Passing a negative integer is deprecated in version 1.0 and will not be supported in future version. Instead, use None to not limit the column width.\n"
          ]
        }
      ],
      "source": [
        "import pandas as pd\n",
        "import re\n",
        "from google.colab import files\n",
        "from nltk.corpus import stopwords\n",
        "from nltk.stem import WordNetLemmatizer \n",
        "import nltk\n",
        "from nltk.util import ngrams\n",
        "from gensim.models import Phrases\n",
        "from gensim.models.phrases import Phraser\n",
        "\n",
        "nltk.download('wordnet')\n",
        "nltk.download('stopwords')\n",
        "\n",
        "lemmatizer = WordNetLemmatizer()\n",
        "stop = stopwords.words(\"english\")\n",
        "\n",
        "from google.colab import drive\n",
        "drive.mount('/content/drive')\n",
        "dataset = pd.read_json(\"/content/drive/My Drive/Colab Notebooks/hashtags-en-tweets.jsonl.gz\", compression = \"gzip\", lines=True)\n",
        "\n",
        "#pd.set_option('display.max_rows', None)\n",
        "pd.set_option('display.max_columns', None)\n",
        "#pd.set_option('display.width', None)\n",
        "pd.set_option('display.max_colwidth', -1)"
      ]
    },
    {
      "cell_type": "code",
      "execution_count": null,
      "metadata": {
        "id": "dwNhiLhk7Lg8"
      },
      "outputs": [],
      "source": [
        "def export_hashtags():\n",
        "  a = pd.Series([item for sublist in dataset.hashtags for item in sublist])\n",
        "  df = a.value_counts().sort_index().rename_axis('hashtag').reset_index(name='times')\n",
        "  df = df.nlargest(3000, \"times\")\n",
        "  df = df.reset_index()\n",
        "  df = df[[\"hashtag\", \"times\"]]\n",
        "  df.to_json(\"hashtags_counts.json\")\n",
        "  files.download(\"hashtags_counts.json\")"
      ]
    },
    {
      "cell_type": "markdown",
      "metadata": {
        "id": "tFVrlLYtyDLt"
      },
      "source": [
        "Deleting Duplicates, then using the SnowballStemmer to stemm words. \n",
        "Stemming is the task of reducing a word to its stem (main part)\n",
        "Credits:\n",
        "https://stackoverflow.com/questions/37443138/python-stemming-with-pandas-dataframe\n",
        "Removing Links: https://stackoverflow.com/questions/51994254/removing-url-from-a-column-in-pandas-dataframe\n",
        "Alphanumeric: https://stackoverflow.com/questions/46241120/how-to-remove-non-alpha-numeric-characters-from-strings-within-a-dataframe-colum"
      ]
    },
    {
      "cell_type": "code",
      "execution_count": null,
      "metadata": {
        "colab": {
          "base_uri": "https://localhost:8080/"
        },
        "id": "bJkilrP5m9zx",
        "outputId": "aebcfc2b-f615-4e4a-8ee4-5e85be8498ed"
      },
      "outputs": [
        {
          "output_type": "stream",
          "name": "stdout",
          "text": [
            "Looking in indexes: https://pypi.org/simple, https://us-python.pkg.dev/colab-wheels/public/simple/\n",
            "Requirement already satisfied: ekphrasis in /usr/local/lib/python3.7/dist-packages (0.5.4)\n",
            "Requirement already satisfied: tqdm in /usr/local/lib/python3.7/dist-packages (from ekphrasis) (4.64.0)\n",
            "Requirement already satisfied: termcolor in /usr/local/lib/python3.7/dist-packages (from ekphrasis) (1.1.0)\n",
            "Requirement already satisfied: matplotlib in /usr/local/lib/python3.7/dist-packages (from ekphrasis) (3.2.2)\n",
            "Requirement already satisfied: ujson in /usr/local/lib/python3.7/dist-packages (from ekphrasis) (5.4.0)\n",
            "Requirement already satisfied: numpy in /usr/local/lib/python3.7/dist-packages (from ekphrasis) (1.21.6)\n",
            "Requirement already satisfied: colorama in /usr/local/lib/python3.7/dist-packages (from ekphrasis) (0.4.5)\n",
            "Requirement already satisfied: ftfy in /usr/local/lib/python3.7/dist-packages (from ekphrasis) (6.1.1)\n",
            "Requirement already satisfied: nltk in /usr/local/lib/python3.7/dist-packages (from ekphrasis) (3.7)\n",
            "Requirement already satisfied: wcwidth>=0.2.5 in /usr/local/lib/python3.7/dist-packages (from ftfy->ekphrasis) (0.2.5)\n",
            "Requirement already satisfied: pyparsing!=2.0.4,!=2.1.2,!=2.1.6,>=2.0.1 in /usr/local/lib/python3.7/dist-packages (from matplotlib->ekphrasis) (3.0.9)\n",
            "Requirement already satisfied: kiwisolver>=1.0.1 in /usr/local/lib/python3.7/dist-packages (from matplotlib->ekphrasis) (1.4.4)\n",
            "Requirement already satisfied: python-dateutil>=2.1 in /usr/local/lib/python3.7/dist-packages (from matplotlib->ekphrasis) (2.8.2)\n",
            "Requirement already satisfied: cycler>=0.10 in /usr/local/lib/python3.7/dist-packages (from matplotlib->ekphrasis) (0.11.0)\n",
            "Requirement already satisfied: typing-extensions in /usr/local/lib/python3.7/dist-packages (from kiwisolver>=1.0.1->matplotlib->ekphrasis) (4.1.1)\n",
            "Requirement already satisfied: six>=1.5 in /usr/local/lib/python3.7/dist-packages (from python-dateutil>=2.1->matplotlib->ekphrasis) (1.15.0)\n",
            "Requirement already satisfied: click in /usr/local/lib/python3.7/dist-packages (from nltk->ekphrasis) (7.1.2)\n",
            "Requirement already satisfied: regex>=2021.8.3 in /usr/local/lib/python3.7/dist-packages (from nltk->ekphrasis) (2022.6.2)\n",
            "Requirement already satisfied: joblib in /usr/local/lib/python3.7/dist-packages (from nltk->ekphrasis) (1.1.0)\n",
            "Looking in indexes: https://pypi.org/simple, https://us-python.pkg.dev/colab-wheels/public/simple/\n",
            "Requirement already satisfied: gensim in /usr/local/lib/python3.7/dist-packages (3.6.0)\n",
            "Requirement already satisfied: smart-open>=1.2.1 in /usr/local/lib/python3.7/dist-packages (from gensim) (5.2.1)\n",
            "Requirement already satisfied: scipy>=0.18.1 in /usr/local/lib/python3.7/dist-packages (from gensim) (1.7.3)\n",
            "Requirement already satisfied: numpy>=1.11.3 in /usr/local/lib/python3.7/dist-packages (from gensim) (1.21.6)\n",
            "Requirement already satisfied: six>=1.5.0 in /usr/local/lib/python3.7/dist-packages (from gensim) (1.15.0)\n",
            "Reading twitter - 1grams ...\n",
            "Reading twitter - 1grams ...\n",
            "Reading twitter - 2grams ...\n"
          ]
        },
        {
          "output_type": "stream",
          "name": "stderr",
          "text": [
            "[nltk_data] Downloading package omw-1.4 to /root/nltk_data...\n",
            "[nltk_data]   Package omw-1.4 is already up-to-date!\n"
          ]
        }
      ],
      "source": [
        "!pip install ekphrasis -U\n",
        "!pip install gensim\n",
        "import gensim\n",
        "from collections import defaultdict\n",
        "from gensim import corpora\n",
        "import nltk\n",
        "from ekphrasis.classes.segmenter import Segmenter\n",
        "from nltk.stem.wordnet import WordNetLemmatizer\n",
        "from gensim.models import Phrases\n",
        "\n",
        "def preprocess():\n",
        "  ds = dataset[dataset[\"quoted_tweet_id\"].isnull()]  #198954 left\n",
        "  ds = ds.reset_index()\n",
        "  ds = ds.head(128)\n",
        "  ds = ds.drop(columns=[\"index\", \"date\", \"quoted_tweet_id\", \"user_id\", \"id\", \"reply_count\",\"quote_count\", \"retweet_count\", \"in_reply_to_tweet_id\", \"like_count\"])\n",
        "  ds = ds.replace({\"text\": {\"\\n\":\" \", \"ö\":\"oe\", \"ü\":\"ue\", \"ä\":\"ae\", \"ß\":\"ss\", \"Ö\":\"Oe\", \"Ä\":\"Ae\", \"Ü\":\"Ue\"}})  \n",
        "  ds[\"text2\"] = ds[\"text\"].apply(lambda x: \" \".join(re.sub(\"(@[A-Za-z0-9_]+)|(#[A-Za-z0-9_]+)|([^A-Za-z \\t])|(\\w+:\\/\\/\\S+)\",\" \",x).split()))\n",
        "  ds[\"text2\"] = ds[\"text2\"].apply(lambda x: \" \".join([word for word in x.split() if word not in (stop)]))\n",
        "  ds[\"text2\"] = ds[\"text2\"].apply(lambda x: \" \".join([word.lower() for word in x.split()]))\n",
        "  ds[\"text3\"] = ds[\"text2\"]\n",
        "\n",
        "\n",
        "  from ekphrasis.classes.preprocessor import TextPreProcessor\n",
        "  from ekphrasis.classes.tokenizer import SocialTokenizer\n",
        "  from ekphrasis.dicts.emoticons import emoticons\n",
        "\n",
        "  text_processor = TextPreProcessor(\n",
        "      normalize=[],\n",
        "      # terms that will be annotated\n",
        "      annotate={},\n",
        "      fix_html=False,  # fix HTML tokens\n",
        "      \n",
        "      # corpus from which the word statistics are going to be used for word segmentation \n",
        "      segmenter=\"twitter\", \n",
        "      \n",
        "      # corpus from which the word statistics are going to be used for spell correction\n",
        "      corrector=\"twitter\", \n",
        "      \n",
        "      unpack_hashtags=False,  # perform word segmentation on hashtags\n",
        "      unpack_contractions=True,  # Unpack contractions (can't -> can not)\n",
        "      spell_correct_elong=False,  # spell correction for elongated words\n",
        "      \n",
        "      # select a tokenizer. You can use SocialTokenizer, or pass your own\n",
        "      # the tokenizer, should take as input a string and return a list of tokens\n",
        "      tokenizer=SocialTokenizer(lowercase=True).tokenize,\n",
        "      \n",
        "      # list of dictionaries, for replacing tokens extracted from the text,\n",
        "      # with other expressions. You can pass more than one dictionaries.\n",
        "      #dicts=[emoticons]\n",
        "  )\n",
        "\n",
        "  ds[\"text3\"] = ds[\"text3\"].apply(lambda x: \" \".join(text_processor.pre_process_doc(x)))\n",
        "\n",
        "  # segmenter using the word statistics from Twitter\n",
        "  seg_tw = Segmenter(corpus=\"twitter\")\n",
        "\n",
        "  ds[\"text3\"] = ds[\"text3\"].apply(lambda x: \" \".join([seg_tw.segment(word) for word in x.split()]))\n",
        "\n",
        "  nltk.download('omw-1.4')\n",
        "  #Tokenize and remove single letters\n",
        "  ds[\"gensimtext\"] = ds[\"text3\"].apply(lambda x: \" \".join([word for word in x.split() if len(word) > 1]))\n",
        "\n",
        "  #Lemmatize\n",
        "  lemmatizer = WordNetLemmatizer()\n",
        "  ds[\"gensimtext\"] = ds[\"gensimtext\"].apply(lambda x: \" \".join([lemmatizer.lemmatize(word) for word in x.split()]))\n",
        "\n",
        "  ds = ds.drop(columns=[\"text\", \"text2\", \"text3\"])\n",
        "\n",
        "  #Compute bigrams\n",
        "\n",
        "  return ds\n",
        "\n",
        "ds = preprocess()"
      ]
    },
    {
      "cell_type": "markdown",
      "metadata": {
        "id": "mu98t5ZvQLoB"
      },
      "source": [
        "# Adjacency Matrix for Word to Word\n",
        "I used the direct neighboring words. If a word is at the beginning or end of a Sentence it only has one neighbor, else 2.\n",
        "Try to do Bag of Words like Hashtag"
      ]
    },
    {
      "cell_type": "code",
      "execution_count": null,
      "metadata": {
        "colab": {
          "base_uri": "https://localhost:8080/"
        },
        "id": "8-9mZrC_tn5T",
        "outputId": "5cb3cd5d-aad6-40d2-86c5-788e165bb152"
      },
      "outputs": [
        {
          "output_type": "stream",
          "name": "stdout",
          "text": [
            "Looking in indexes: https://pypi.org/simple, https://us-python.pkg.dev/colab-wheels/public/simple/\n",
            "Requirement already satisfied: transformers in /usr/local/lib/python3.7/dist-packages (4.21.2)\n",
            "Requirement already satisfied: numpy>=1.17 in /usr/local/lib/python3.7/dist-packages (from transformers) (1.21.6)\n",
            "Requirement already satisfied: tokenizers!=0.11.3,<0.13,>=0.11.1 in /usr/local/lib/python3.7/dist-packages (from transformers) (0.12.1)\n",
            "Requirement already satisfied: pyyaml>=5.1 in /usr/local/lib/python3.7/dist-packages (from transformers) (6.0)\n",
            "Requirement already satisfied: huggingface-hub<1.0,>=0.1.0 in /usr/local/lib/python3.7/dist-packages (from transformers) (0.9.1)\n",
            "Requirement already satisfied: requests in /usr/local/lib/python3.7/dist-packages (from transformers) (2.23.0)\n",
            "Requirement already satisfied: tqdm>=4.27 in /usr/local/lib/python3.7/dist-packages (from transformers) (4.64.0)\n",
            "Requirement already satisfied: regex!=2019.12.17 in /usr/local/lib/python3.7/dist-packages (from transformers) (2022.6.2)\n",
            "Requirement already satisfied: packaging>=20.0 in /usr/local/lib/python3.7/dist-packages (from transformers) (21.3)\n",
            "Requirement already satisfied: importlib-metadata in /usr/local/lib/python3.7/dist-packages (from transformers) (4.12.0)\n",
            "Requirement already satisfied: filelock in /usr/local/lib/python3.7/dist-packages (from transformers) (3.8.0)\n",
            "Requirement already satisfied: typing-extensions>=3.7.4.3 in /usr/local/lib/python3.7/dist-packages (from huggingface-hub<1.0,>=0.1.0->transformers) (4.1.1)\n",
            "Requirement already satisfied: pyparsing!=3.0.5,>=2.0.2 in /usr/local/lib/python3.7/dist-packages (from packaging>=20.0->transformers) (3.0.9)\n",
            "Requirement already satisfied: zipp>=0.5 in /usr/local/lib/python3.7/dist-packages (from importlib-metadata->transformers) (3.8.1)\n",
            "Requirement already satisfied: chardet<4,>=3.0.2 in /usr/local/lib/python3.7/dist-packages (from requests->transformers) (3.0.4)\n",
            "Requirement already satisfied: certifi>=2017.4.17 in /usr/local/lib/python3.7/dist-packages (from requests->transformers) (2022.6.15)\n",
            "Requirement already satisfied: idna<3,>=2.5 in /usr/local/lib/python3.7/dist-packages (from requests->transformers) (2.10)\n",
            "Requirement already satisfied: urllib3!=1.25.0,!=1.25.1,<1.26,>=1.21.1 in /usr/local/lib/python3.7/dist-packages (from requests->transformers) (1.24.3)\n",
            "Loading BERT tokenizer...\n"
          ]
        },
        {
          "output_type": "stream",
          "name": "stderr",
          "text": [
            "Truncation was not explicitly activated but `max_length` is provided a specific value, please use `truncation=True` to explicitly truncate examples to max length. Defaulting to 'longest_first' truncation strategy. If you encode pairs of sequences (GLUE-style) with the tokenizer you can select this strategy more precisely by providing a specific strategy to `truncation`.\n"
          ]
        },
        {
          "output_type": "stream",
          "name": "stdout",
          "text": [
            "Original:  training pic team final session ap piano setting\n",
            "Token IDs: tensor([  101,  2731, 27263,  2136,  2345,  5219,  9706,  3682,  4292,   102,\n",
            "            0,     0,     0,     0,     0,     0,     0,     0,     0,     0,\n",
            "            0,     0,     0,     0,     0,     0,     0,     0,     0,     0,\n",
            "            0,     0])\n",
            "Original:  ['LiverpoolInter', 'ForzaInter', 'UCL']\n",
            "Token IDs: tensor([101, 100, 100, 100, 102,   0,   0,   0,   0,   0,   0,   0,   0,   0,\n",
            "          0,   0])\n"
          ]
        },
        {
          "output_type": "stream",
          "name": "stderr",
          "text": [
            "/usr/local/lib/python3.7/dist-packages/transformers/tokenization_utils_base.py:2329: FutureWarning: The `pad_to_max_length` argument is deprecated and will be removed in a future version, use `padding=True` or `padding='longest'` to pad to the longest sequence in the batch, or use `padding='max_length'` to pad to a max length. In this case, you can give a specific length with `max_length` (e.g. `max_length=45`) or leave max_length to None to pad to the maximal input size of the model (e.g. 512 for Bert).\n",
            "  FutureWarning,\n"
          ]
        }
      ],
      "source": [
        "!pip install transformers\n",
        "import torch\n",
        "from transformers import BertTokenizer, BertModel\n",
        "\n",
        "#ds = ds.head(100)\n",
        "\n",
        "# Load the BERT tokenizer.\n",
        "print('Loading BERT tokenizer...')\n",
        "tokenizer = BertTokenizer.from_pretrained('bert-base-uncased', do_lower_case=True)\n",
        "\n",
        "# OPTIONAL: if you want to have more information on what's happening, activate the logger as follows\n",
        "import logging\n",
        "#logging.basicConfig(level=logging.INFO)\n",
        "\n",
        "import matplotlib.pyplot as plt\n",
        "%matplotlib inline\n",
        "\n",
        "# Tokenize all of the sentences and map the tokens to thier word IDs.\n",
        "input_ids = []\n",
        "attention_masks = []\n",
        "input_ids_h = []\n",
        "attention_masks_h = []\n",
        "\n",
        "# For every sentence...\n",
        "for i in ds.index:\n",
        "    # `encode_plus` will:\n",
        "    #   (1) Tokenize the sentence.\n",
        "    #   (2) Prepend the `[CLS]` token to the start.\n",
        "    #   (3) Append the `[SEP]` token to the end.\n",
        "    #   (4) Map tokens to their IDs.\n",
        "    #   (5) Pad or truncate the sentence to `max_length`\n",
        "    #   (6) Create attention masks for [PAD] tokens.\n",
        "    sent = ds[\"gensimtext\"][i]\n",
        "    hash = ds[\"hashtags\"][i]\n",
        "    encoded_dict = tokenizer.encode_plus(\n",
        "                        sent,                      # Sentence to encode.\n",
        "                        add_special_tokens = True, # Add '[CLS]' and '[SEP]'\n",
        "                        max_length = 32,           # Pad & truncate all sentences.\n",
        "                        pad_to_max_length = True,\n",
        "                        return_attention_mask = True,   # Construct attn. masks.\n",
        "                        return_tensors = 'pt',     # Return pytorch tensors.\n",
        "                   )\n",
        "    \n",
        "    # Add the encoded sentence to the list.    \n",
        "    input_ids.append(encoded_dict['input_ids'])\n",
        "    \n",
        "    # And its attention mask (simply differentiates padding from non-padding).\n",
        "    attention_masks.append(encoded_dict['attention_mask'])\n",
        "\n",
        "    encoded_dict_h = tokenizer.encode_plus(\n",
        "                        hash,                      # Sentence to encode.\n",
        "                        add_special_tokens = True, # Add '[CLS]' and '[SEP]'\n",
        "                        max_length = 16,           # Pad & truncate all sentences.\n",
        "                        pad_to_max_length = True,\n",
        "                        return_attention_mask = True,   # Construct attn. masks.\n",
        "                        return_tensors = 'pt',     # Return pytorch tensors.\n",
        "                   )\n",
        "    \n",
        "    input_ids_h.append(encoded_dict_h['input_ids'])\n",
        "    attention_masks_h.append(encoded_dict_h['attention_mask'])\n",
        "\n",
        "# Convert the lists into tensors.\n",
        "tokens_tensor = torch.cat(input_ids, dim=0)\n",
        "segments_tensors = torch.cat(attention_masks, dim=0)\n",
        "\n",
        "tokens_tensor_h = torch.cat(input_ids_h, dim=0)\n",
        "segments_tensors_h = torch.cat(attention_masks_h, dim=0)\n",
        "\n",
        "\n",
        "# Print sentence 0, now as a list of IDs.\n",
        "print('Original: ', ds[\"gensimtext\"][0])\n",
        "print('Token IDs:', tokens_tensor[0])\n",
        "print('Original: ', ds[\"hashtags\"][0])\n",
        "print('Token IDs:', tokens_tensor_h[0])\n"
      ]
    },
    {
      "cell_type": "code",
      "execution_count": null,
      "metadata": {
        "colab": {
          "base_uri": "https://localhost:8080/"
        },
        "id": "q8gmsFQWTn4w",
        "outputId": "c7ea9cf7-224b-4a13-e9f7-c775f4e044bd"
      },
      "outputs": [
        {
          "output_type": "stream",
          "name": "stderr",
          "text": [
            "Some weights of the model checkpoint at bert-base-uncased were not used when initializing BertModel: ['cls.predictions.transform.dense.bias', 'cls.predictions.transform.dense.weight', 'cls.predictions.transform.LayerNorm.bias', 'cls.predictions.transform.LayerNorm.weight', 'cls.predictions.bias', 'cls.predictions.decoder.weight', 'cls.seq_relationship.weight', 'cls.seq_relationship.bias']\n",
            "- This IS expected if you are initializing BertModel from the checkpoint of a model trained on another task or with another architecture (e.g. initializing a BertForSequenceClassification model from a BertForPreTraining model).\n",
            "- This IS NOT expected if you are initializing BertModel from the checkpoint of a model that you expect to be exactly identical (initializing a BertForSequenceClassification model from a BertForSequenceClassification model).\n"
          ]
        }
      ],
      "source": [
        "# Load pre-trained model (weights)\n",
        "#ds = ds.head(20)\n",
        "model = BertModel.from_pretrained('bert-base-uncased',\n",
        "                                 output_hidden_states = False, # Whether the model returns all hidden-states.\n",
        "                                 )\n",
        "\n",
        "from torch.utils.data import TensorDataset, random_split, DataLoader, RandomSampler, SequentialSampler"
      ]
    },
    {
      "cell_type": "code",
      "source": [
        "\n",
        "import torch\n",
        "import tensorflow as tf\n",
        "tf.compat.v1.enable_eager_execution()\n",
        "import numpy as np\n",
        "from sklearn.decomposition import PCA\n",
        "\n",
        "# If there's a GPU available...\n",
        "if torch.cuda.is_available():    \n",
        "\n",
        "    # Tell PyTorch to use the GPU.    \n",
        "    device = torch.device(\"cuda\")\n",
        "\n",
        "    print('There are %d GPU(s) available.' % torch.cuda.device_count())\n",
        "\n",
        "    print('We will use the GPU:', torch.cuda.get_device_name(0))\n",
        "\n",
        "# If not...\n",
        "else:\n",
        "    print('No GPU available, using the CPU instead.')\n",
        "    device = torch.device(\"cpu\")\n",
        "\n",
        "# Set the batch size.  \n",
        "batch_size = 16\n",
        "\n",
        "# Create the DataLoader.\n",
        "prediction_data = TensorDataset(tokens_tensor, segments_tensors)\n",
        "prediction_sampler = SequentialSampler(prediction_data)\n",
        "prediction_dataloader = DataLoader(prediction_data, sampler=prediction_sampler, batch_size=batch_size)\n",
        "\n",
        "prediction_data = TensorDataset(tokens_tensor_h, segments_tensors_h)\n",
        "prediction_sampler = SequentialSampler(prediction_data)\n",
        "prediction_dataloader_h = DataLoader(prediction_data, sampler=prediction_sampler, batch_size=batch_size)\n",
        "\n",
        "# Tracking variables \n",
        "predictions, predictions_h = [], []\n",
        "\n",
        "# Put the model in \"evaluation\" mode, meaning feed-forward operation.\n",
        "model.eval()\n",
        "\n",
        "# Predict \n",
        "def predict(dataloader, predictions):\n",
        "  pca = PCA(n_components=16)\n",
        "  for batch in dataloader:\n",
        "    # Add batch to GPU\n",
        "    batch = tuple(t.to(device) for t in batch)\n",
        "    \n",
        "    # Unpack the inputs from our dataloader\n",
        "    b_input_ids, b_input_mask = batch\n",
        "    \n",
        "    # Telling the model not to compute or store gradients, saving memory and \n",
        "    # speeding up prediction\n",
        "    with torch.no_grad():\n",
        "        # Forward pass, calculate logit predictions\n",
        "        outputs = model(b_input_ids, token_type_ids=None, \n",
        "                        attention_mask=b_input_mask)\n",
        "        #hidden_states = outputs[2]\n",
        "    principalComponents = []\n",
        "    print(len(outputs), len(outputs[0]), len(outputs[0][0]),  len(outputs[0][0][0]))\n",
        "    for i in range(0, len(outputs[0])):\n",
        "      principalComponents.append(pca.fit_transform(outputs[0][i]))\n",
        "\n",
        "    logits = torch.tensor(principalComponents)\n",
        "    # Move logits and labels to CPU\n",
        "    logits = logits.detach().cpu().numpy()\n",
        "    #hidden_states = hidden_states.detach().cpu().numpy()\n",
        "    \n",
        "    # Store predictions and true labels\n",
        "    predictions.append(torch.tensor(logits))\n",
        "    #predictions.append(hidden_states)\n",
        "    \n",
        "  return predictions\n",
        "\n",
        "predictions = predict(prediction_dataloader, predictions)\n",
        "predictions_h = predict(prediction_dataloader_h, predictions_h)\n",
        "\n",
        "print('    DONE.')\n"
      ],
      "metadata": {
        "id": "-EWJRWyFrOm5",
        "colab": {
          "base_uri": "https://localhost:8080/"
        },
        "outputId": "ae271cc2-8b9b-4e96-a168-1a0a4b50c839"
      },
      "execution_count": null,
      "outputs": [
        {
          "output_type": "stream",
          "name": "stdout",
          "text": [
            "No GPU available, using the CPU instead.\n",
            "2 16 32 768\n",
            "2 16 32 768\n",
            "2 16 32 768\n",
            "2 16 32 768\n",
            "2 16 32 768\n",
            "2 16 32 768\n",
            "2 16 32 768\n",
            "2 16 32 768\n",
            "2 16 16 768\n",
            "2 16 16 768\n",
            "2 16 16 768\n",
            "2 16 16 768\n",
            "2 16 16 768\n",
            "2 16 16 768\n",
            "2 16 16 768\n",
            "2 16 16 768\n",
            "    DONE.\n"
          ]
        }
      ]
    },
    {
      "cell_type": "code",
      "source": [
        "print(type(predictions_h))\n",
        "print(len(predictions_h))\n",
        "print(type(predictions_h[0]))\n",
        "print(len(predictions_h[0]))\n",
        "print(len(predictions_h[0][0]))\n",
        "print(len(predictions_h[0][0][0]))\n",
        "#print(len(predictions[0][0][0][0]))"
      ],
      "metadata": {
        "colab": {
          "base_uri": "https://localhost:8080/"
        },
        "id": "kg0q2XqhMVGA",
        "outputId": "510ba633-a234-4226-f8a8-677a59e6495f"
      },
      "execution_count": null,
      "outputs": [
        {
          "output_type": "stream",
          "name": "stdout",
          "text": [
            "<class 'list'>\n",
            "8\n",
            "<class 'torch.Tensor'>\n",
            "16\n",
            "16\n",
            "16\n"
          ]
        }
      ]
    },
    {
      "cell_type": "code",
      "source": [
        "token_embeddings = torch.stack(predictions, dim=0)\n",
        "predictions = 0\n",
        "token_embeddings_h = torch.stack(predictions_h, dim=0)\n",
        "predictions_h = 0\n",
        "token_vecs_sum = token_embeddings.reshape(-1, 32, 16)\n",
        "token_embeddings = 0\n",
        "token_vecs_sum_h = token_embeddings_h.reshape(-1, 16, 16)\n",
        "token_embeddings_h = 0"
      ],
      "metadata": {
        "id": "9OpI-ct7u0Qz"
      },
      "execution_count": null,
      "outputs": []
    },
    {
      "cell_type": "code",
      "source": [
        "print(type(token_vecs_sum_h))\n",
        "print(len(token_vecs_sum_h))\n",
        "print(type(token_vecs_sum_h[0]))\n",
        "print(len(token_vecs_sum_h[0]))\n",
        "print(len(token_vecs_sum_h[0][0]))\n",
        "\n",
        "# `hidden_states` has shape [13 x 1 x 22 x 768]\n",
        "sentence_embedding = []\n",
        "# `token_vecs` is a tensor with shape [22 x 768]\n",
        "for i in range(0, len(token_vecs_sum)):\n",
        "  token_vecs = token_vecs_sum[i]\n",
        "  #print(len(token_vecs), len(token_vecs[i]))\n",
        "# Calculate the average of all 22 token vectors.\n",
        "  sentence = torch.mean(token_vecs, dim=0)\n",
        "  #print(sentence)\n",
        "  sentence_embedding.append(sentence)\n",
        "\n",
        "print ('Shape is: %d x %d' % (len(sentence_embedding), len(sentence_embedding[0])))"
      ],
      "metadata": {
        "colab": {
          "base_uri": "https://localhost:8080/"
        },
        "id": "WdUuU-Wg76ku",
        "outputId": "b46b305e-f3bf-42dd-c724-6e5b520bef79"
      },
      "execution_count": null,
      "outputs": [
        {
          "output_type": "stream",
          "name": "stdout",
          "text": [
            "<class 'torch.Tensor'>\n",
            "128\n",
            "<class 'torch.Tensor'>\n",
            "16\n",
            "16\n",
            "Shape is: 128 x 16\n"
          ]
        }
      ]
    },
    {
      "cell_type": "markdown",
      "metadata": {
        "id": "5-d-bMDlxWQs"
      },
      "source": [
        "# Word - Word Matrix"
      ]
    },
    {
      "cell_type": "code",
      "execution_count": null,
      "metadata": {
        "colab": {
          "base_uri": "https://localhost:8080/"
        },
        "id": "RI4H5pNsXQJj",
        "outputId": "e1408edb-988e-4704-87b0-49ff3eb89222"
      },
      "outputs": [
        {
          "output_type": "stream",
          "name": "stdout",
          "text": [
            "{0: 1, 2: 1}\n",
            "{0: 0.0005592841163310962, 2: 0.0005592841163310962}\n"
          ]
        },
        {
          "output_type": "stream",
          "name": "stderr",
          "text": [
            "/usr/local/lib/python3.7/dist-packages/ipykernel_launcher.py:2: UserWarning: Pandas doesn't allow columns to be created via a new attribute name - see https://pandas.pydata.org/pandas-docs/stable/indexing.html#attribute-access\n",
            "  \n"
          ]
        }
      ],
      "source": [
        "import math\n",
        "ds.tokens = [sent.split() for sent in ds.gensimtext]\n",
        "\n",
        "res = []\n",
        "wordconversion = {}\n",
        "i = 0\n",
        "for sent in ds.tokens:\n",
        "  for x in sent:\n",
        "    if x not in wordconversion:\n",
        "        value = wordconversion[x] = i\n",
        "        i += 1\n",
        "    else:\n",
        "        value = wordconversion[x]\n",
        "    res.append(value)\n",
        "#print(wordconversion[0])\n",
        "worddict = {}\n",
        "words = {}\n",
        "wwsum = 0\n",
        "\n",
        "for isent in range(0, len(ds.tokens)):\n",
        "  sent = ds.tokens[isent]\n",
        "  for i in range(0,len(sent)):\n",
        "    word = wordconversion[sent[i]]\n",
        "    if worddict.get(word) == None:\n",
        "        worddict[word] = {}\n",
        "    if i -1 >= 0:\n",
        "      left = wordconversion[sent[i - 1]]\n",
        "      wwsum += 1\n",
        "      if worddict[word].get(left) == None:\n",
        "        worddict[word][left] = 1   \n",
        "      else:\n",
        "        worddict[word][left] += 1\n",
        "\n",
        "    if i + 1 < len(sent):\n",
        "      right = wordconversion[sent[i + 1]]\n",
        "      wwsum += 1\n",
        "      if worddict[word].get(right) == None:\n",
        "        worddict[word][right] = 1\n",
        "      else: \n",
        "        worddict[word][right] +=1\n",
        "\n",
        "factor_w_w = {}\n",
        "for key in worddict:\n",
        "  for k in worddict[key]:\n",
        "    if factor_w_w.get(key) == None:\n",
        "      factor_w_w[key] = {}\n",
        "    #factor_w_w[key][k] = math.log(worddict[key][k] * wwsum / sum(worddict[key].values()) / sum(worddict[k].values()))\n",
        "    factor_w_w[key][k] = worddict[key][k] / wwsum\n",
        "print(worddict[1])\n",
        "print(factor_w_w[1])"
      ]
    },
    {
      "cell_type": "markdown",
      "metadata": {
        "id": "DBnyCcJuHqA6"
      },
      "source": [
        "#Hashtag - Hashtag"
      ]
    },
    {
      "cell_type": "code",
      "execution_count": null,
      "metadata": {
        "id": "7HDiWJtOHpjb"
      },
      "outputs": [],
      "source": [
        "hashdict = {}\n",
        "\n",
        "res = []\n",
        "hashconversion = {}\n",
        "i = 0\n",
        "for sent in ds.hashtags:\n",
        "  for x in sent:\n",
        "    if x not in hashconversion:\n",
        "        value = hashconversion[x] = i\n",
        "        i += 1\n",
        "    else:\n",
        "        value = hashconversion[x]\n",
        "    res.append(value)\n",
        "hhsum = 0\n",
        "\n",
        "for sent in ds.hashtags:\n",
        "  for i in range(0,len(sent)):\n",
        "    hash = hashconversion[sent[i]]\n",
        "    \n",
        "    if hashdict.get(hash) == None:\n",
        "        hashdict[hash] = {}\n",
        "    for j in range(0, len(sent)):\n",
        "      #hhsum += 1\n",
        "      left = hashconversion[sent[j]]\n",
        "      if hashdict[hash].get(left) == None and left != hash:\n",
        "        hashdict[hash][left] = 1\n",
        "        hhsum += 1\n",
        "      elif left != hash:\n",
        "        hashdict[hash][left] += 1\n",
        "        hhsum += 1\n",
        "        \n",
        "\n",
        "factor_h_h = {}\n",
        "\n",
        "for key in hashdict:\n",
        "  for k in hashdict[key]:\n",
        "    if factor_h_h.get(key) == None:\n",
        "      factor_h_h[key] = {}\n",
        "    #factor_h_h[key][k] = math.log(hashdict[key][k] * wwsum / sum(hashdict[key].values()) * sum(hashdict[k].values()))\n",
        "    factor_h_h[key][k] = hashdict[key][k] / hhsum\n",
        "\n",
        "#writematrix(\"M_h_h.txt\", hashdict, factor_h_h, len(hashdict), len(hashdict))\n"
      ]
    },
    {
      "cell_type": "markdown",
      "metadata": {
        "id": "1hQ4BRAsOz8N"
      },
      "source": [
        "# Hashtag - Tweet"
      ]
    },
    {
      "cell_type": "code",
      "execution_count": null,
      "metadata": {
        "id": "Qige0g22O6Dt"
      },
      "outputs": [],
      "source": [
        "hashtweetdict = {}\n",
        "htsum = 0\n",
        "\n",
        "for i in ds.index:\n",
        "  for j in range(0,len(ds.hashtags[i])):\n",
        "    hash = hashconversion[ds.hashtags[i][j]]\n",
        "    if hashtweetdict.get(hash) == None:\n",
        "      hashtweetdict[hash] = {}\n",
        "    htsum += 1\n",
        "    hashtweetdict[hash][j] = 1\n",
        "\n",
        "factor_h_t = {}\n",
        "\n",
        "for key in hashtweetdict:\n",
        "  for k in hashtweetdict[key]:\n",
        "    if factor_h_t.get(key) == None:\n",
        "      factor_h_t[key] = {}\n",
        "    factor_h_t[key][k] = hashtweetdict[key][k] / htsum\n",
        "\n",
        "#writematrix(\"M_h_t.txt\", hashtweetdict, factor_h_t, len(hashtweetdict), len(ds.index))"
      ]
    },
    {
      "cell_type": "markdown",
      "metadata": {
        "id": "mXWIxxIDPCkL"
      },
      "source": [
        "# Tweet - Word"
      ]
    },
    {
      "cell_type": "code",
      "execution_count": null,
      "metadata": {
        "id": "s-7GcKLKPFwV"
      },
      "outputs": [],
      "source": [
        "tweetworddict = {}\n",
        "twsum = 0\n",
        "\n",
        "for i in ds.index:\n",
        "  tweetworddict[i] = {}\n",
        "  for j in range(0,len(ds.tokens[i])):\n",
        "    word = wordconversion[ds.tokens[i][j]]\n",
        "    if tweetworddict[i].get(word) == None:\n",
        "      tweetworddict[i][word] = 1\n",
        "    else:\n",
        "      tweetworddict[i][word] += 1\n",
        "    twsum += 1\n",
        "\n",
        "factor_t_w = {}\n",
        "\n",
        "for key in tweetworddict:\n",
        "  for k in tweetworddict[key]:\n",
        "    if factor_t_w.get(key) == None:\n",
        "      factor_t_w[key] = {}\n",
        "    factor_t_w[key][k] = tweetworddict[key][k] / twsum\n",
        "\n",
        "#writematrix(\"M_t_w.txt\", tweetworddict, factor_t_w, len(tweetworddict), len(worddict))"
      ]
    },
    {
      "cell_type": "markdown",
      "metadata": {
        "id": "bsTNI1B4qgXn"
      },
      "source": [
        "#Tweet Topic and Index\n"
      ]
    },
    {
      "cell_type": "code",
      "execution_count": null,
      "metadata": {
        "id": "FKvN8Reur8v5"
      },
      "outputs": [],
      "source": [
        "pd.set_option('display.max_rows', None)\n",
        "pd.set_option('display.max_columns', None)\n",
        "pd.set_option('display.width', None)\n",
        "pd.set_option('display.max_colwidth', None)\n",
        "tweet_choice = [0, 1, 2, 8, 9, 10, 11, 19, 20, 21]\n",
        "tweet_topics = [1, 1, 1, 1, 1, 1, 1, 1, 2, 3, 4, 4, 4, 4, 4, 4, 4, 4, 4, 4, 4, 2, 2]\n",
        "tweet_chosen_topics = [tweet_topics[x] for x in tweet_choice]\n",
        "#tweet_topics[0:3] + tweet_topics[8:12] + tweet_topics[19:22]\n",
        "\n",
        "def writeindexandlabel(name, chosen, choice):\n",
        "  with open('/content/drive/My Drive/Colab Notebooks/' + name + '_label.txt', 'w') as writefile:\n",
        "    writefile.write(str(len(chosen)) + \"\\n\")\n",
        "    for i in chosen:\n",
        "      writefile.write(str(i) + \"\\n\")\n",
        "\n",
        "  with open('/content/drive/My Drive/Colab Notebooks/' + name + '_index.txt', 'w') as writefile:\n",
        "    writefile.write(str(len(chosen)) + \"\\n\")\n",
        "    for i in choice:\n",
        "      writefile.write(str(i) + \"\\n\")\n",
        "\n",
        "writeindexandlabel(\"tweet\", tweet_chosen_topics, tweet_choice)"
      ]
    },
    {
      "cell_type": "markdown",
      "metadata": {
        "id": "hqoNJqmiw9Bz"
      },
      "source": [
        "# Hashtag Topic and Index"
      ]
    },
    {
      "cell_type": "code",
      "source": [
        "hash_csv = pd.read_csv(\"/content/drive/My Drive/Colab Notebooks/top_hashtags_all_new.csv\", sep = \";\", names = [\"hashtag\", \"category\", \"category2\", 1, 2, 3, 4, 5, 6, 7, 8], header = None)\n",
        "hash_csv = hash_csv.drop([1, 2, 3, 4, 5, 6, 7, 8], axis=1)\n",
        "hash_csv.hashtag = hash_csv.hashtag.apply(lambda x: ' '.join(re.sub(\"(@[A-Za-z0-9]+)|([^0-9A-Za-z \\t])|(\\w+:\\/\\/\\S+)\",\" \",x).split()))\n",
        "import collections\n",
        "found_hashtags = {}\n",
        "found2_hashtags = {}\n",
        "topics_hashtags = {}\n",
        "topics2_hashtags = {}\n",
        "j = 1\n",
        "k = 1\n",
        "for i in hash_csv.index:\n",
        "  if topics_hashtags.get(hash_csv.category[i]) == None:\n",
        "    topics_hashtags[hash_csv.category[i]] = j\n",
        "    j += 1\n",
        "  if topics2_hashtags.get(hash_csv.category2[i]) == None:\n",
        "    topics2_hashtags[hash_csv.category2[i]] = k\n",
        "    k += 1\n",
        "  if hashconversion.get(hash_csv.hashtag[i]) != None:\n",
        "    found_hashtags[hashconversion[hash_csv.hashtag[i]]] = topics_hashtags.get(hash_csv.category[i])\n",
        "    found2_hashtags[hashconversion[hash_csv.hashtag[i]]] = topics2_hashtags.get(hash_csv.category2[i])\n",
        "\n",
        "found_hashtags = collections.OrderedDict(sorted(found_hashtags.items()))\n",
        "\n",
        "writeindexandlabel(\"hashtag\", found_hashtags.values(), found_hashtags.keys())\n",
        "writeindexandlabel(\"hashtag2\", found2_hashtags.values(), found2_hashtags.keys())"
      ],
      "metadata": {
        "id": "zBOEv0kZvtfd"
      },
      "execution_count": null,
      "outputs": []
    },
    {
      "cell_type": "code",
      "source": [
        "print(topics_hashtags)\n",
        "print(topics_hashtags[\"ukraine\"])"
      ],
      "metadata": {
        "id": "xSeP5OZCJk14",
        "outputId": "db544d88-9b7d-431f-f80a-b37ec21de0c8",
        "colab": {
          "base_uri": "https://localhost:8080/"
        }
      },
      "execution_count": null,
      "outputs": [
        {
          "output_type": "stream",
          "name": "stdout",
          "text": [
            "{'ukraine': 1, 'music_and_art': 2, 'environment': 3, 'internet': 4, 'america': 5, 'celebrity': 6, 'tv_program': 7, 'england': 8, 'sport': 9, 'politician': 10, 'society': 11, 'entertainment': 12, 'games': 13, 'news_outlets': 14, 'science_and_technology': 15, 'europe': 16, 'nature': 17, 'middle_east': 18, 'australia': 19, 'festival': 20, 'education': 21, 'pandemic': 22, 'russia': 23, 'military': 24, 'film': 25, 'energy': 26, 'life': 27, 'crime': 28, 'health': 29, 'travel': 30, 'work': 31, 'law': 32, 'asia': 33, 'china': 34, 'commerce': 35, 'charity': 36, 'unknown': 37, 'economy': 38, 'migration': 39, 'awards_competition': 40, 'politics': 41, 'climate': 42, 'sci_tech': 43, 'news': 44, 'gaming': 45, 'sports': 46, 'football': 47, 'tv_cinema': 48, 'music_radio': 49, 'local_news': 50, 'finance_work': 51, 'covid': 52, 'religion': 53, 'lifestyle': 54, 'tv': 55, 'awards': 56, 'music': 57}\n",
            "1\n"
          ]
        }
      ]
    },
    {
      "cell_type": "markdown",
      "metadata": {
        "id": "nStdGq4Yy9yy"
      },
      "source": [
        "[hastag1, hashtag2, hashtag3, hashtag4]\n",
        "Understand Equation\n",
        "Implement BERT embedding\n",
        "Look into where final hashtag embedding and save it\n",
        "\n"
      ]
    },
    {
      "cell_type": "markdown",
      "metadata": {
        "id": "fvnnIoZWwgQV"
      },
      "source": [
        "# Include Bert embeddings\n",
        "## Tweet 2 Word"
      ]
    },
    {
      "cell_type": "code",
      "execution_count": null,
      "metadata": {
        "id": "g3pwE8quwfWc"
      },
      "outputs": [],
      "source": [
        "import math\n",
        "from scipy.spatial.distance import cosine\n",
        "\n",
        "def bertembedding(tweetind, wordind, wordind2, mode):\n",
        "  if mode == \"tw\":\n",
        "    d = 1/(1 + math.exp(- cosine(sentence_embedding[tweetind], token_vecs_sum[tweetind][wordind])))\n",
        "  elif mode == \"ww\":\n",
        "    d = 1/(1 + math.exp(- cosine(token_vecs_sum[tweetind][wordind], token_vecs_sum[tweetind][wordind2])))\n",
        "  elif mode == \"ht\":\n",
        "    d = 1/(1 + math.exp(- cosine(token_vecs_sum_h[tweetind][wordind], sentence_embedding[tweetind])))\n",
        "  elif mode == \"hh\":\n",
        "    d = 1/(1 + math.exp(- cosine(token_vecs_sum_h[tweetind][wordind], token_vecs_sum_h[tweetind][wordind2])))\n",
        "\n",
        "  return d\n",
        "\n",
        "tweetworddictbert = {}\n",
        "for i in ds.index:\n",
        "  tweetworddictbert[i] = {}\n",
        "  for j in range(0,len(ds.tokens[i])):\n",
        "    word = wordconversion[ds.tokens[i][j]]\n",
        "    if tweetworddictbert[i].get(word) == None:\n",
        "      tweetworddictbert[i][word] = bertembedding(i, j, 0,\"tw\") / tweetworddict[i][word]\n",
        "    else:\n",
        "      tweetworddictbert[i][word] = tweetworddictbert[i][word] + (bertembedding(i, j, 0, \"tw\") / tweetworddict[i][word])\n",
        "\n",
        "wordworddictbert = {}\n",
        "for i in ds.index:\n",
        "  for j in range(0,len(ds.tokens[i])):\n",
        "    word = wordconversion[ds.tokens[i][j]]\n",
        "    if wordworddictbert.get(word) == None:\n",
        "      wordworddictbert[word] = {}\n",
        "    if j -1 >= 0:\n",
        "      left = wordconversion[ds.tokens[i][j - 1]]\n",
        "      if wordworddictbert[word].get(left) == None:\n",
        "        wordworddictbert[word][left] = bertembedding(i, j, j-1, \"ww\") / worddict[word][left]\n",
        "      else:\n",
        "        wordworddictbert[word][left] = wordworddictbert[word][left] + (bertembedding(i, j, j-1, \"ww\") / worddict[word][left])\n",
        "    if j + 1 < len(ds.tokens[i]):\n",
        "      right = wordconversion[ds.tokens[i][j + 1]]\n",
        "      if wordworddictbert[word].get(right) == None:\n",
        "        wordworddictbert[word][right] = bertembedding(i, j, j+1, \"ww\") / worddict[word][right]\n",
        "      else:\n",
        "        wordworddictbert[word][right] = wordworddictbert[word][right] + (bertembedding(i, j, j+1, \"ww\") / worddict[word][right])\n",
        "\n",
        "hashtweetdictbert = {}\n",
        "for i in ds.index:\n",
        "  for j in range(0,len(ds.hashtags[i])):\n",
        "    hash = hashconversion[ds.hashtags[i][j]]\n",
        "    if hashtweetdictbert.get(hash) == None:\n",
        "      hashtweetdictbert[hash] = {}\n",
        "    #htsum += 1\n",
        "    hashtweetdictbert[hash][j] = bertembedding(i, j, 0, \"ht\")\n",
        "\n",
        "hashhashdictbert = {}\n",
        "for k in ds.index:\n",
        "  sent = ds.hashtags[k]\n",
        "  for i in range(0,len(sent)):\n",
        "    hash = hashconversion[sent[i]]\n",
        "    if hashhashdictbert.get(hash) == None:\n",
        "        hashhashdictbert[hash] = {}\n",
        "    for j in range(0, len(sent)):\n",
        "      left = hashconversion[sent[j]]\n",
        "      if hashhashdictbert[hash].get(left) == None and left != hash:\n",
        "        hashhashdictbert[hash][left] = bertembedding(k, i, j, \"hh\") / hashdict[hash][left]\n",
        "      elif left != hash:\n",
        "        hashhashdictbert[hash][left] = hashhashdictbert[hash][left] + (bertembedding(k, i, j, \"hh\") / hashdict[hash][left])"
      ]
    },
    {
      "cell_type": "code",
      "execution_count": null,
      "metadata": {
        "id": "Y5QO9Q9T7w6g"
      },
      "outputs": [],
      "source": [
        "from scipy.spatial import distance\n",
        "\n",
        "def writematrix(name, dictina, factor, a, b, bert):\n",
        "  with open('/content/drive/My Drive/Colab Notebooks/' + name, 'w') as writefile:\n",
        "    writefile.write(str(a) + \" \" + str(b) + \"\\n\")\n",
        "    index = sorted(dictina)\n",
        "    for key in index:\n",
        "      line = str(key) + \" \" + str(len(dictina[key]))\n",
        "      index2 = sorted(dictina[key])\n",
        "      for keykey in index2:\n",
        "        line += \" \" + str(keykey) + \":\" + str(distance.euclidean(factor[key][keykey], - bert[key][keykey]))\n",
        "      writefile.write(line + \"\\n\")\n",
        "\n",
        "def writematrixbert(name, dictina, factor, a, b, bert):\n",
        "  with open('/content/drive/My Drive/Colab Notebooks/' + name, 'w') as writefile:\n",
        "    writefile.write(str(a) + \" \" + str(b) + \"\\n\")\n",
        "    index = sorted(dictina)\n",
        "    for key in index:\n",
        "      line = str(key) + \" \" + str(len(dictina[key]))\n",
        "      index2 = sorted(dictina[key])\n",
        "      for keykey in index2:\n",
        "        line += \" \" + str(keykey) + \":\" + str(bert[key][keykey])\n",
        "      writefile.write(line + \"\\n\")\n",
        "\n",
        "writematrixbert(\"M_t_w.txt\", tweetworddict, factor_t_w, len(tweetworddict), len(worddict), tweetworddictbert)\n",
        "writematrixbert(\"M_w_w.txt\", worddict, factor_w_w, len(worddict), len(worddict), wordworddictbert)\n",
        "writematrixbert(\"M_h_t.txt\", hashtweetdict, factor_h_t, len(hashtweetdict), len(ds.index), hashtweetdictbert)\n",
        "writematrixbert(\"M_h_h.txt\", hashdict, factor_h_h, len(hashdict), len(hashdict), hashhashdictbert)"
      ]
    },
    {
      "cell_type": "code",
      "source": [
        "print(found_hashtags)\n",
        "print(topics_hashtags)\n",
        "arr = found_hashtags.keys()\n",
        "print(list(arr))\n"
      ],
      "metadata": {
        "colab": {
          "base_uri": "https://localhost:8080/"
        },
        "id": "wzJnea9Y2FNy",
        "outputId": "84de8c05-1d3d-4c8b-dcfa-a6df8862d301"
      },
      "execution_count": null,
      "outputs": [
        {
          "output_type": "stream",
          "name": "stdout",
          "text": [
            "OrderedDict([(0, 47), (2, 47), (3, 9), (4, 9), (5, 47), (7, 11), (8, 14), (10, 18), (12, 18), (14, 1), (16, 41), (17, 1), (18, 23), (19, 23), (20, 10), (21, 1), (22, 1), (23, 11), (25, 11), (26, 1), (29, 1), (32, 1), (35, 1), (37, 1), (39, 1), (40, 1), (41, 39), (42, 41), (46, 23), (47, 1), (49, 1), (50, 3), (51, 3), (52, 11), (54, 14), (57, 55), (62, 47), (65, 44), (69, 11), (70, 18), (71, 21), (74, 27), (76, 17), (77, 17), (90, 44), (91, 9), (95, 12), (96, 11), (99, 52), (102, 44), (105, 44), (107, 20), (109, 11), (112, 42), (119, 29), (124, 43), (128, 55), (129, 44), (134, 11), (137, 16), (138, 11), (141, 30), (144, 57), (149, 31), (152, 11), (153, 43), (157, 44), (165, 54), (168, 46), (169, 44), (170, 25), (171, 52), (172, 49), (173, 37), (174, 55), (177, 48), (179, 43), (180, 41), (186, 15), (187, 44), (189, 29), (192, 44), (195, 48), (196, 48), (197, 48), (200, 16), (203, 48), (205, 48), (211, 48), (212, 48), (213, 25), (215, 48), (216, 11), (217, 8), (218, 6), (224, 11), (227, 7), (229, 7), (230, 48), (231, 49), (233, 11), (234, 55), (236, 48), (239, 7), (242, 11), (244, 50), (247, 11), (248, 27), (251, 1), (255, 11), (256, 1), (259, 1), (261, 1), (262, 1), (264, 11), (265, 1), (269, 1), (270, 11), (272, 11), (275, 10), (277, 1), (279, 1), (280, 1), (282, 11), (302, 18), (305, 11), (306, 1), (307, 1), (310, 50), (311, 8), (312, 27), (313, 38), (314, 11), (320, 51), (322, 51), (324, 27), (333, 55), (338, 6), (340, 55), (349, 9), (352, 11), (355, 7), (356, 9), (357, 9), (358, 7), (363, 11), (365, 55), (366, 40), (368, 48), (369, 48), (370, 48), (374, 7), (376, 9), (377, 47), (378, 45), (379, 32), (380, 11), (386, 21), (388, 11), (389, 11), (390, 11), (391, 18), (392, 52), (394, 50), (396, 11), (397, 11), (398, 20), (399, 8), (400, 11), (403, 18), (405, 8), (406, 44), (409, 1), (413, 50), (414, 11), (415, 41), (416, 50), (417, 24), (424, 1), (425, 1), (426, 5), (433, 43), (434, 43), (436, 41), (437, 11), (438, 50), (440, 24), (442, 1), (443, 49), (445, 1), (446, 50), (447, 1), (449, 1), (450, 1), (451, 1), (457, 11), (458, 4), (460, 12), (461, 34), (468, 12), (479, 41), (485, 38), (487, 15), (493, 11), (502, 11), (504, 11), (509, 43), (518, 5), (524, 49), (527, 43), (532, 52), (541, 43), (542, 11), (543, 11), (545, 32), (553, 11), (555, 19), (561, 50), (566, 55), (568, 48), (569, 48), (572, 49), (574, 8), (580, 8), (581, 9), (584, 11), (587, 11), (589, 37), (593, 11), (595, 26), (597, 48), (603, 8), (605, 11), (606, 29), (610, 3), (612, 8), (614, 42), (615, 44), (616, 16), (624, 50), (627, 1), (628, 1), (629, 41), (631, 1), (644, 31), (647, 7), (649, 51), (650, 4), (652, 1), (653, 28), (654, 8), (655, 50), (662, 11), (664, 55), (671, 42), (674, 46), (676, 14), (682, 40), (689, 43), (694, 48), (695, 7), (696, 7), (700, 1), (702, 6), (707, 1), (709, 1), (713, 1), (719, 1), (726, 11), (728, 44), (730, 11), (731, 1), (733, 11), (735, 44), (736, 41), (742, 11), (743, 2), (744, 49), (745, 2), (753, 1), (754, 18), (756, 18), (774, 9), (786, 18), (787, 18), (790, 48), (792, 50), (795, 11), (826, 47), (847, 52), (854, 18), (859, 10), (870, 9), (873, 18), (875, 4), (878, 18), (881, 1), (882, 1), (883, 41), (884, 41)])\n",
            "{'ukraine': 1, 'music_and_art': 2, 'environment': 3, 'internet': 4, 'america': 5, 'celebrity': 6, 'tv_program': 7, 'england': 8, 'sport': 9, 'politician': 10, 'society': 11, 'entertainment': 12, 'games': 13, 'news_outlets': 14, 'science_and_technology': 15, 'europe': 16, 'nature': 17, 'middle_east': 18, 'australia': 19, 'festival': 20, 'education': 21, 'pandemic': 22, 'russia': 23, 'military': 24, 'film': 25, 'energy': 26, 'life': 27, 'crime': 28, 'health': 29, 'travel': 30, 'work': 31, 'law': 32, 'asia': 33, 'china': 34, 'commerce': 35, 'charity': 36, 'unknown': 37, 'economy': 38, 'migration': 39, 'awards_competition': 40, 'politics': 41, 'climate': 42, 'sci_tech': 43, 'news': 44, 'gaming': 45, 'sports': 46, 'football': 47, 'tv_cinema': 48, 'music_radio': 49, 'local_news': 50, 'finance_work': 51, 'covid': 52, 'religion': 53, 'lifestyle': 54, 'tv': 55, 'awards': 56, 'music': 57}\n",
            "[0, 2, 3, 4, 5, 7, 8, 10, 12, 14, 16, 17, 18, 19, 20, 21, 22, 23, 25, 26, 29, 32, 35, 37, 39, 40, 41, 42, 46, 47, 49, 50, 51, 52, 54, 57, 62, 65, 69, 70, 71, 74, 76, 77, 90, 91, 95, 96, 99, 102, 105, 107, 109, 112, 119, 124, 128, 129, 134, 137, 138, 141, 144, 149, 152, 153, 157, 165, 168, 169, 170, 171, 172, 173, 174, 177, 179, 180, 186, 187, 189, 192, 195, 196, 197, 200, 203, 205, 211, 212, 213, 215, 216, 217, 218, 224, 227, 229, 230, 231, 233, 234, 236, 239, 242, 244, 247, 248, 251, 255, 256, 259, 261, 262, 264, 265, 269, 270, 272, 275, 277, 279, 280, 282, 302, 305, 306, 307, 310, 311, 312, 313, 314, 320, 322, 324, 333, 338, 340, 349, 352, 355, 356, 357, 358, 363, 365, 366, 368, 369, 370, 374, 376, 377, 378, 379, 380, 386, 388, 389, 390, 391, 392, 394, 396, 397, 398, 399, 400, 403, 405, 406, 409, 413, 414, 415, 416, 417, 424, 425, 426, 433, 434, 436, 437, 438, 440, 442, 443, 445, 446, 447, 449, 450, 451, 457, 458, 460, 461, 468, 479, 485, 487, 493, 502, 504, 509, 518, 524, 527, 532, 541, 542, 543, 545, 553, 555, 561, 566, 568, 569, 572, 574, 580, 581, 584, 587, 589, 593, 595, 597, 603, 605, 606, 610, 612, 614, 615, 616, 624, 627, 628, 629, 631, 644, 647, 649, 650, 652, 653, 654, 655, 662, 664, 671, 674, 676, 682, 689, 694, 695, 696, 700, 702, 707, 709, 713, 719, 726, 728, 730, 731, 733, 735, 736, 742, 743, 744, 745, 753, 754, 756, 774, 786, 787, 790, 792, 795, 826, 847, 854, 859, 870, 873, 875, 878, 881, 882, 883, 884]\n"
          ]
        }
      ]
    },
    {
      "cell_type": "markdown",
      "source": [
        "# Now import data from Hastag2Vec"
      ],
      "metadata": {
        "id": "a2xvHwdUK0kw"
      }
    },
    {
      "cell_type": "code",
      "source": [
        "dat = pd.read_csv(\"/content/drive/My Drive/Colab Notebooks/W_h_5_5.txt\", sep=\" \", header=None)\n",
        "dat2 = pd.read_csv(\"/content/drive/My Drive/Colab Notebooks/W_h_10_5.txt\", sep=\" \", header=None)\n",
        "\n",
        "chosen = []\n",
        "\n",
        "for i in range(0, len(dat.columns)):\n",
        "  if found_hashtags.get(i) == None:\n",
        "    chosen.append(len(topics_hashtags) + 1)\n",
        "  else:\n",
        "    chosen.append(found_hashtags.get(i))\n",
        "\n",
        "annotations = list(range(0, 50))\n",
        "\n",
        "from sklearn.decomposition import PCA\n",
        "from sklearn.preprocessing import StandardScaler\n",
        "\n",
        "def prep_data_pca(data):\n",
        "  global chosen\n",
        "  for column in data:\n",
        "    data[column] = data[column].apply(lambda x: float(x))\n",
        "  \n",
        "  data = data.transpose()\n",
        "  data[16] = chosen\n",
        "  \n",
        "\n",
        "  features = list(range(0, 16))\n",
        "  # Separating out the features\n",
        "  x = data.loc[:, features].values\n",
        "  # Separating out the target\n",
        "  y = data.loc[:,[16]].values\n",
        "  # Standardizing the features\n",
        "  x = StandardScaler().fit_transform(x)\n",
        "\n",
        "\n",
        "  pca = PCA(n_components=2)\n",
        "  principalComponents = pca.fit_transform(x)\n",
        "  principalDf = pd.DataFrame(data = principalComponents, columns = [1, 2])\n",
        "  finalDf = pd.concat([principalDf, data[[16]]], axis = 1)\n",
        "  print(pca.explained_variance_ratio_)\n",
        "  return finalDf\n",
        "\n",
        "from sklearn.manifold import TSNE\n",
        "\n",
        "def prep_data_tsne(data):\n",
        "  global chosen\n",
        "  data = data.transpose()\n",
        "  tsne = TSNE(n_components=2, learning_rate='auto', init='random').fit_transform(data)\n",
        "  \n",
        "  x = pd.DataFrame(data = tsne, columns = [1, 2])\n",
        "  x[16] = pd.DataFrame(chosen)\n",
        "  finalDf = pd.concat([x, x[16]], axis = 1)\n",
        "  return x\n",
        "\n",
        "import matplotlib.pyplot as plt\n",
        "def create_subplot(fig, data):\n",
        "  global targets, colors, annotations\n",
        "  for i in range(0, len(data)):\n",
        "    ax = fig.add_subplot(len(data), 2, i + 1)\n",
        "    if i%2==0:\n",
        "      ax.set_title('2 component PCA', fontsize = 20)\n",
        "    else:\n",
        "      ax.set_title('2 component TSNE', fontsize = 20)\n",
        "    for target, color in zip(targets, colors):\n",
        "        indicesToKeep = data[i][16] == target\n",
        "        ax.scatter(data[i].loc[indicesToKeep, 1]\n",
        "                  , data[i].loc[indicesToKeep, 2]\n",
        "                  , c = color\n",
        "                  #, cmap = \"tab20c\"\n",
        "                  , s = 50) \n",
        "    #for j, label in enumerate(annotations):\n",
        "      #plt.annotate(label, (data[i][1][j], data[i][2][j]))\n",
        "  return fig\n",
        "\n",
        "data = prep_data_pca(dat)\n",
        "data2 = prep_data_pca(dat2)\n",
        "data_tsne = prep_data_tsne(dat)\n",
        "data2_tsne = prep_data_tsne(dat2)\n",
        "fig = plt.figure(figsize = (16,16))\n",
        "#targets = list(range(1, 5))\n",
        "targets = [1, 9, 10, 17, 18, 23]\n",
        "colors = ['r', 'g', 'b', 'c', 'm', 'y', 'k', 'limegreen', 'grey', 'darkorange', 'fuchsia', 'khaki']\n",
        "\n",
        "fig = create_subplot(fig, [data, data_tsne, data2, data2_tsne])\n",
        "\n",
        "    \n",
        "def get_keys_from_value(d, val):\n",
        "    return [k for k, v in d.items() if v == val]\n",
        "\n",
        "target_names = []\n",
        "for i in targets:\n",
        "  a = get_keys_from_value(topics_hashtags, i)\n",
        "  a = ' '.join(a)\n",
        "  target_names.append(a)\n",
        "\n",
        "#print(target_names)\n",
        "#ax.legend(target_names)\n",
        "#ax.grid()\n",
        "\n",
        "plt.legend(target_names)\n",
        "plt.show()\n",
        "'''\n",
        "from sklearn.manifold import TSNE\n",
        "X_embedded = TSNE(n_components=2, learning_rate='auto', init='random').fit_transform(x)\n",
        "print(X_embedded)\n",
        "import matplotlib.pyplot as plt\n",
        "fig, ax = plt.subplots()\n",
        "scatter = ax.scatter(X_embedded[:, 0], X_embedded[:, 1], c = chosen[:], alpha = 0.75, s=100, cmap = \"tab20c\")\n",
        "'''\n",
        "# produce a legend with the unique colors from the scatter\n",
        "'''\n",
        "legend1 = ax.legend(*scatter.legend_elements(),\n",
        "                    loc=\"lower left\", title=\"Classes\")\n",
        "ax.add_artist(legend1)\n",
        "'''\n",
        "#plt.legend()\n",
        "#plt.show()"
      ],
      "metadata": {
        "colab": {
          "base_uri": "https://localhost:8080/",
          "height": 538
        },
        "id": "oEBcAD7ZyLEJ",
        "outputId": "a56e1a34-83bc-463c-a021-c90e1d733448"
      },
      "execution_count": null,
      "outputs": [
        {
          "output_type": "stream",
          "name": "stdout",
          "text": [
            "[0.80148268 0.13543124]\n",
            "[0.93990416 0.05033824]\n"
          ]
        },
        {
          "output_type": "display_data",
          "data": {
            "text/plain": [
              "<Figure size 1152x1152 with 4 Axes>"
            ],
            "image/png": "[encoded data removed]"
          },
          "metadata": {
            "needs_background": "light"
          }
        },
        {
          "output_type": "execute_result",
          "data": {
            "text/plain": [
              "'\\nlegend1 = ax.legend(*scatter.legend_elements(),\\n                    loc=\"lower left\", title=\"Classes\")\\nax.add_artist(legend1)\\n'"
            ],
            "application/vnd.google.colaboratory.intrinsic+json": {
              "type": "string"
            }
          },
          "metadata": {},
          "execution_count": 16
        }
      ]
    },
    {
      "cell_type": "code",
      "source": [
        "from sklearn.cluster import KMeans\n",
        "from sklearn import metrics\n",
        "from sklearn.metrics.cluster import adjusted_mutual_info_score\n",
        "import numpy as np\n",
        "\n",
        "def eval_sil(data, labels):\n",
        "  return metrics.silhouette_score(data, labels, metric='euclidean')\n",
        "\n",
        "def eval_ami(labels_pred, labels_true):\n",
        "  return adjusted_mutual_info_score(labels_pred, labels_true)\n",
        "\n",
        "def eval(data, start, end):\n",
        "  sil = []\n",
        "  ami = []\n",
        "  for i in range(start, end):\n",
        "    kmeans_model = KMeans(n_clusters=i, random_state=1).fit(data[[1, 2]])\n",
        "    labels = kmeans_model.labels_\n",
        "    sil.append(eval_sil(data[[1, 2]], labels))\n",
        "    ami.append(eval_ami(data[16], labels))\n",
        "  frame = [sil, ami, list(range(start, end))]\n",
        "  frame = np.array(frame).transpose()\n",
        "  ret = pd.DataFrame(frame, columns = [\"sil\", \"ami\",\"cluster\"])\n",
        "  return ret\n",
        "\n",
        "x = eval(data, 2, 25)\n",
        "print(x)"
      ],
      "metadata": {
        "colab": {
          "base_uri": "https://localhost:8080/"
        },
        "id": "UJda_SPhV-zK",
        "outputId": "eaeacdca-db1b-4dcc-fd32-f806260dbd19"
      },
      "execution_count": null,
      "outputs": [
        {
          "output_type": "stream",
          "name": "stdout",
          "text": [
            "         sil       ami  cluster\n",
            "0   0.647910  0.059554      2.0\n",
            "1   0.544558  0.061020      3.0\n",
            "2   0.594256  0.059474      4.0\n",
            "3   0.592952  0.062966      5.0\n",
            "4   0.632832  0.056795      6.0\n",
            "5   0.652296  0.056763      7.0\n",
            "6   0.652205  0.058310      8.0\n",
            "7   0.634482  0.055431      9.0\n",
            "8   0.638637  0.058953     10.0\n",
            "9   0.642159  0.063337     11.0\n",
            "10  0.606574  0.057606     12.0\n",
            "11  0.624429  0.051095     13.0\n",
            "12  0.605840  0.055863     14.0\n",
            "13  0.581073  0.050904     15.0\n",
            "14  0.570206  0.056119     16.0\n",
            "15  0.579412  0.059027     17.0\n",
            "16  0.577193  0.061841     18.0\n",
            "17  0.578315  0.060912     19.0\n",
            "18  0.552699  0.058849     20.0\n",
            "19  0.566637  0.060059     21.0\n",
            "20  0.535467  0.054817     22.0\n",
            "21  0.547735  0.055311     23.0\n",
            "22  0.550218  0.057140     24.0\n"
          ]
        }
      ]
    },
    {
      "cell_type": "markdown",
      "source": [
        "Add labels \n",
        "maybe 3D Space - Do until certain Variance value. \n",
        "Try without BERT and compare\n",
        "Make visualization customizable\n",
        "\n",
        "plotly - instead of matplotlib - maybe easier?\n",
        "\n",
        "Evaluate with AMI, Siloutte\n",
        "Merge Cluster, but add new levels"
      ],
      "metadata": {
        "id": "CBsk5Tbn5Kq6"
      }
    }
  ],
  "metadata": {
    "colab": {
      "collapsed_sections": [
        "5-d-bMDlxWQs",
        "DBnyCcJuHqA6",
        "1hQ4BRAsOz8N",
        "bsTNI1B4qgXn",
        "fvnnIoZWwgQV"
      ],
      "provenance": []
    },
    "kernelspec": {
      "display_name": "Python 3",
      "name": "python3"
    },
    "language_info": {
      "name": "python"
    }
  },
  "nbformat": 4,
  "nbformat_minor": 0
}